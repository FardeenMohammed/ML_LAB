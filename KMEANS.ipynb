{
 "cells": [
  {
   "cell_type": "code",
   "execution_count": 44,
   "metadata": {},
   "outputs": [],
   "source": [
    "arr = [[5.0,3.2],[4.6,2.9],[6.2,2.8],[4.7,3.2],[5.5,4.2],[50,3.0],[4.9,3.1],[6.7,3.1],[5.1,3.8],[6.0,3.0]]"
   ]
  },
  {
   "cell_type": "code",
   "execution_count": 45,
   "metadata": {},
   "outputs": [],
   "source": [
    "cent = [[6.2,3.2],[6.6,3.7],[6.5,3.0]]"
   ]
  },
  {
   "cell_type": "code",
   "execution_count": 46,
   "metadata": {},
   "outputs": [],
   "source": [
    "import numpy as np\n",
    "arr = np.array(arr)\n",
    "cent = np.array(cent)"
   ]
  },
  {
   "cell_type": "code",
   "execution_count": 47,
   "metadata": {},
   "outputs": [],
   "source": [
    "# cl = []\n",
    "# c1= []\n",
    "# c2=[]\n",
    "# c3=[]\n",
    "# for i in arr:\n",
    "#     x1 = np.linalg.norm(i - cent[0])\n",
    "#     x2 = np.linalg.norm(i - cent[1])\n",
    "#     x3 = np.linalg.norm(i - cent[2])\n",
    "#     mini = min(x1,x2,x3)\n",
    "#     if(x1 == mini):\n",
    "#         cl.append(1)\n",
    "#         c1.append(i)\n",
    "#     elif(x2 == mini):\n",
    "#         cl.append(2)\n",
    "#         c2.append(i)\n",
    "#     else:\n",
    "#         cl.append(3)\n",
    "#         c3.append(i)\n",
    "    \n",
    "    \n",
    "# print(cl)"
   ]
  },
  {
   "cell_type": "code",
   "execution_count": 48,
   "metadata": {},
   "outputs": [],
   "source": [
    "# c1"
   ]
  },
  {
   "cell_type": "code",
   "execution_count": 49,
   "metadata": {},
   "outputs": [],
   "source": [
    "# c2"
   ]
  },
  {
   "cell_type": "code",
   "execution_count": 50,
   "metadata": {},
   "outputs": [],
   "source": [
    "# c3"
   ]
  },
  {
   "cell_type": "code",
   "execution_count": 51,
   "metadata": {},
   "outputs": [],
   "source": [
    "cent_new = [[0,0],[0,0],[0,0]]"
   ]
  },
  {
   "cell_type": "code",
   "execution_count": 52,
   "metadata": {},
   "outputs": [],
   "source": [
    "# sum0=0\n",
    "# sum1=0\n",
    "# for i in c1:\n",
    "#     sum0 = sum0+i[0]\n",
    "#     sum1 = sum1+i[1]\n",
    "# cent_new[0][0] = sum0/len(c1)\n",
    "# cent_new[0][1] = sum1/len(c1)\n"
   ]
  },
  {
   "cell_type": "code",
   "execution_count": 53,
   "metadata": {},
   "outputs": [],
   "source": [
    "# sum0=0\n",
    "# sum1=0\n",
    "# for i in c2:\n",
    "#     sum0 = sum0+i[0]\n",
    "#     sum1 = sum1+i[1]\n",
    "# cent_new[1][0] = sum0/len(c1)\n",
    "# cent_new[1][1] = sum1/len(c1)\n",
    "# cent_new"
   ]
  },
  {
   "cell_type": "code",
   "execution_count": 54,
   "metadata": {},
   "outputs": [],
   "source": [
    "# sum0=0\n",
    "# sum1=0\n",
    "# for i in c3:\n",
    "#     sum0 = sum0+i[0]\n",
    "#     sum1 = sum1+i[1]\n",
    "# cent_new[2][0] = sum0/len(c3)\n",
    "# cent_new[2][1] = sum1/len(c3)\n",
    "# cent_new"
   ]
  },
  {
   "cell_type": "code",
   "execution_count": 55,
   "metadata": {},
   "outputs": [
    {
     "name": "stdout",
     "output_type": "stream",
     "text": [
      "[[5.050000000000001, 3.1999999999999997], [9.25, 1.2], [9.8, 4.5]]\n"
     ]
    }
   ],
   "source": [
    "cl = []\n",
    "c1= []\n",
    "c2=[]\n",
    "c3=[]\n",
    "q=0\n",
    "q1=1\n",
    "count=0\n",
    "while int(cent_new[0][1]) != int(cent[0][1]):\n",
    "    count+=1\n",
    "    for i in arr:\n",
    "        x1 = np.linalg.norm(i - cent[0])\n",
    "        x2 = np.linalg.norm(i - cent[1])\n",
    "        x3 = np.linalg.norm(i - cent[2])\n",
    "        mini = min(x1,x2,x3)\n",
    "        if(x1 == mini):\n",
    "            cl.append(1)\n",
    "            c1.append(i)\n",
    "        elif(x2 == mini):\n",
    "            cl.append(2)\n",
    "            c2.append(i)\n",
    "        else:\n",
    "            cl.append(3)\n",
    "            c3.append(i)\n",
    "    sum0=0\n",
    "    sum1=0\n",
    "    for i in c1:\n",
    "        sum0 = sum0+i[0]\n",
    "        sum1 = sum1+i[1]\n",
    "    cent_new[0][0] = sum0/len(c1)\n",
    "    cent_new[0][1] = sum1/len(c1)\n",
    "    sum0=0\n",
    "    sum1=0\n",
    "    for i in c2:\n",
    "        sum0 = sum0+i[0]\n",
    "        sum1 = sum1+i[1]\n",
    "    cent_new[1][0] = sum0/len(c1)\n",
    "    cent_new[1][1] = sum1/len(c1)\n",
    "    \n",
    "    sum0=0\n",
    "    sum1=0\n",
    "    for i in c3:sum0=0\n",
    "    sum1=0\n",
    "    for i in c3:\n",
    "        sum0 = sum0+i[0]\n",
    "        sum1 = sum1+i[1]\n",
    "    cent_new[2][0] = sum0/len(c3)\n",
    "    cent_new[2][1] = sum1/len(c3)\n",
    "    cent_new\n",
    "    sum0 = sum0+i[0]\n",
    "    sum1 = sum1+i[1]\n",
    "    cent_new[2][0] = sum0/len(c3)\n",
    "    cent_new[2][1] = sum1/len(c3)\n",
    "    print(cent_new)\n",
    "    \n",
    "    \n",
    "    \n",
    "    "
   ]
  },
  {
   "cell_type": "code",
   "execution_count": 56,
   "metadata": {},
   "outputs": [
    {
     "data": {
      "text/plain": [
       "[[5.050000000000001, 3.1999999999999997], [9.25, 1.2], [9.8, 4.5]]"
      ]
     },
     "execution_count": 56,
     "metadata": {},
     "output_type": "execute_result"
    }
   ],
   "source": [
    "cent_new"
   ]
  },
  {
   "cell_type": "code",
   "execution_count": 57,
   "metadata": {},
   "outputs": [
    {
     "data": {
      "text/plain": [
       "1"
      ]
     },
     "execution_count": 57,
     "metadata": {},
     "output_type": "execute_result"
    }
   ],
   "source": [
    "count"
   ]
  },
  {
   "cell_type": "code",
   "execution_count": null,
   "metadata": {},
   "outputs": [],
   "source": []
  },
  {
   "cell_type": "code",
   "execution_count": null,
   "metadata": {},
   "outputs": [],
   "source": []
  }
 ],
 "metadata": {
  "kernelspec": {
   "display_name": "Python 3 (ipykernel)",
   "language": "python",
   "name": "python3"
  },
  "language_info": {
   "codemirror_mode": {
    "name": "ipython",
    "version": 3
   },
   "file_extension": ".py",
   "mimetype": "text/x-python",
   "name": "python",
   "nbconvert_exporter": "python",
   "pygments_lexer": "ipython3",
   "version": "3.10.6"
  }
 },
 "nbformat": 4,
 "nbformat_minor": 4
}
