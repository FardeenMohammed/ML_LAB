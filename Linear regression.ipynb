{
 "cells": [
  {
   "cell_type": "code",
   "execution_count": 31,
   "id": "80aef156",
   "metadata": {},
   "outputs": [],
   "source": [
    "import pandas as pd"
   ]
  },
  {
   "cell_type": "code",
   "execution_count": 32,
   "id": "4dacb00c",
   "metadata": {},
   "outputs": [],
   "source": [
    "df = pd.read_csv(\"/home/root1/Downloads/Food-Truck(For Linear Regression Program).csv\",header=None)"
   ]
  },
  {
   "cell_type": "code",
   "execution_count": 33,
   "id": "07f1b6ae",
   "metadata": {},
   "outputs": [],
   "source": [
    "y = df[1]"
   ]
  },
  {
   "cell_type": "code",
   "execution_count": 34,
   "id": "10f11b50",
   "metadata": {},
   "outputs": [],
   "source": [
    "x = df[0]"
   ]
  },
  {
   "cell_type": "code",
   "execution_count": 35,
   "id": "ee959c12",
   "metadata": {},
   "outputs": [],
   "source": [
    "import numpy as np"
   ]
  },
  {
   "cell_type": "code",
   "execution_count": 36,
   "id": "4cf3db0b",
   "metadata": {},
   "outputs": [],
   "source": [
    "import math "
   ]
  },
  {
   "cell_type": "code",
   "execution_count": 37,
   "id": "94f1448e",
   "metadata": {},
   "outputs": [],
   "source": [
    "xm = x.mean()"
   ]
  },
  {
   "cell_type": "code",
   "execution_count": 38,
   "id": "6bc3366c",
   "metadata": {},
   "outputs": [
    {
     "data": {
      "text/plain": [
       "8.159800000000002"
      ]
     },
     "execution_count": 38,
     "metadata": {},
     "output_type": "execute_result"
    }
   ],
   "source": [
    "xm"
   ]
  },
  {
   "cell_type": "code",
   "execution_count": 39,
   "id": "910e8c27",
   "metadata": {},
   "outputs": [],
   "source": [
    "ym = y.mean()"
   ]
  },
  {
   "cell_type": "code",
   "execution_count": 40,
   "id": "be0fa428",
   "metadata": {},
   "outputs": [
    {
     "data": {
      "text/plain": [
       "5.83913505154639"
      ]
     },
     "execution_count": 40,
     "metadata": {},
     "output_type": "execute_result"
    }
   ],
   "source": [
    "ym"
   ]
  },
  {
   "cell_type": "code",
   "execution_count": 41,
   "id": "33b735bd",
   "metadata": {},
   "outputs": [],
   "source": [
    "num=0\n",
    "denom=0\n",
    "for i in range(len(x)):\n",
    "    num=num+(x[i]-xm)*(y[i]-ym)\n",
    "    denom = denom+(x[i]-xm)**2"
   ]
  },
  {
   "cell_type": "code",
   "execution_count": 42,
   "id": "9dad63e8",
   "metadata": {},
   "outputs": [],
   "source": [
    "corr_num = (len(x)*((x*y).sum())) - (x.sum() * y.sum())\n",
    "corr_denom = np.sqrt((len(x)*((x*x).sum())-(x.sum())**2)*((len(x)*(y*y).sum())-(y.sum())**2))\n",
    "correlation = corr_num/corr_denom\n",
    "slope = correlation * (num/denom)\n",
    "intercept = ym-(slope*xm)"
   ]
  },
  {
   "cell_type": "code",
   "execution_count": 43,
   "id": "cb31dfc4",
   "metadata": {},
   "outputs": [
    {
     "name": "stdout",
     "output_type": "stream",
     "text": [
      "0.9996109559698161\n"
     ]
    },
    {
     "data": {
      "text/plain": [
       "-2.317490426976117"
      ]
     },
     "execution_count": 43,
     "metadata": {},
     "output_type": "execute_result"
    }
   ],
   "source": [
    "print(slope)\n",
    "intercept"
   ]
  },
  {
   "cell_type": "code",
   "execution_count": 44,
   "id": "beb87f6e",
   "metadata": {},
   "outputs": [],
   "source": [
    "yp = []\n",
    "res = 0\n",
    "for i in range(len(x)):\n",
    "    res = (x[i]*slope)+intercept\n",
    "    yp.append(res)"
   ]
  },
  {
   "cell_type": "code",
   "execution_count": 45,
   "id": "5436d0ff",
   "metadata": {},
   "outputs": [],
   "source": [
    "import matplotlib.pyplot as plt"
   ]
  },
  {
   "cell_type": "code",
   "execution_count": 46,
   "id": "ec4f3284",
   "metadata": {},
   "outputs": [
    {
     "data": {
      "image/png": "[encoded data removed]",
      "text/plain": [
       "<Figure size 432x288 with 1 Axes>"
      ]
     },
     "metadata": {
      "needs_background": "light"
     },
     "output_type": "display_data"
    }
   ],
   "source": [
    "plt.scatter(x,y)\n",
    "plt.plot(x,yp)\n",
    "plt.show()"
   ]
  },
  {
   "cell_type": "code",
   "execution_count": 47,
   "id": "5cfff761",
   "metadata": {},
   "outputs": [
    {
     "data": {
      "text/plain": [
       "0.7020315537841405"
      ]
     },
     "execution_count": 47,
     "metadata": {},
     "output_type": "execute_result"
    }
   ],
   "source": [
    "#Correlation square\n",
    "correlation**2"
   ]
  },
  {
   "cell_type": "code",
   "execution_count": 48,
   "id": "f8405bac",
   "metadata": {},
   "outputs": [
    {
     "data": {
      "text/plain": [
       "922.3200078966761"
      ]
     },
     "execution_count": 48,
     "metadata": {},
     "output_type": "execute_result"
    }
   ],
   "source": [
    "#sse\n",
    "sse = ((y-yp)**2).sum()\n",
    "sse"
   ]
  },
  {
   "cell_type": "code",
   "execution_count": 49,
   "id": "a87aeb9a",
   "metadata": {},
   "outputs": [
    {
     "data": {
      "text/plain": [
       "1436.5774214813855"
      ]
     },
     "execution_count": 49,
     "metadata": {},
     "output_type": "execute_result"
    }
   ],
   "source": [
    "#ssr\n",
    "ssr=0\n",
    "for i in yp:\n",
    "    ssr=ssr+(i-ym)**2\n",
    "ssr"
   ]
  },
  {
   "cell_type": "code",
   "execution_count": 51,
   "id": "c91fcd8e",
   "metadata": {},
   "outputs": [
    {
     "data": {
      "text/plain": [
       "9.508453689656454"
      ]
     },
     "execution_count": 51,
     "metadata": {},
     "output_type": "execute_result"
    }
   ],
   "source": [
    "#cost\n",
    "cost = ((y-yp)**2).sum()/len(x)\n",
    "cost"
   ]
  },
  {
   "cell_type": "code",
   "execution_count": 52,
   "id": "83eaa7be",
   "metadata": {},
   "outputs": [
    {
     "data": {
      "text/plain": [
       "2358.8974293780616"
      ]
     },
     "execution_count": 52,
     "metadata": {},
     "output_type": "execute_result"
    }
   ],
   "source": [
    "#sst\n",
    "sst = sse+ssr\n",
    "sst"
   ]
  },
  {
   "cell_type": "code",
   "execution_count": null,
   "id": "af9ba373",
   "metadata": {},
   "outputs": [],
   "source": []
  }
 ],
 "metadata": {
  "kernelspec": {
   "display_name": "Python 3 (ipykernel)",
   "language": "python",
   "name": "python3"
  },
  "language_info": {
   "codemirror_mode": {
    "name": "ipython",
    "version": 3
   },
   "file_extension": ".py",
   "mimetype": "text/x-python",
   "name": "python",
   "nbconvert_exporter": "python",
   "pygments_lexer": "ipython3",
   "version": "3.10.6"
  }
 },
 "nbformat": 4,
 "nbformat_minor": 5
}
